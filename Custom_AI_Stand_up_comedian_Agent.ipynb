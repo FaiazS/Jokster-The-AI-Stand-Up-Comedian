{
  "nbformat": 4,
  "nbformat_minor": 0,
  "metadata": {
    "colab": {
      "provenance": [],
      "authorship_tag": "ABX9TyMB2JbR/r1lnoPJj1ogYxDb",
      "include_colab_link": true
    },
    "kernelspec": {
      "name": "python3",
      "display_name": "Python 3"
    },
    "language_info": {
      "name": "python"
    }
  },
  "cells": [
    {
      "cell_type": "markdown",
      "metadata": {
        "id": "view-in-github",
        "colab_type": "text"
      },
      "source": [
        "<a href=\"https://colab.research.google.com/github/FaiazS/Jokster-The-AI-Stand-Up-Comedian/blob/main/Custom_AI_Stand_up_comedian_Agent.ipynb\" target=\"_parent\"><img src=\"https://colab.research.google.com/assets/colab-badge.svg\" alt=\"Open In Colab\"/></a>"
      ]
    },
    {
      "cell_type": "code",
      "execution_count": 1,
      "metadata": {
        "colab": {
          "base_uri": "https://localhost:8080/"
        },
        "id": "6ldv-kO4_w0z",
        "outputId": "af96979d-37a9-4688-bed3-a95b282dde81"
      },
      "outputs": [
        {
          "output_type": "stream",
          "name": "stdout",
          "text": [
            "Requirement already satisfied: openai-agents in /usr/local/lib/python3.11/dist-packages (0.0.17)\n",
            "Requirement already satisfied: griffe<2,>=1.5.6 in /usr/local/lib/python3.11/dist-packages (from openai-agents) (1.7.3)\n",
            "Requirement already satisfied: mcp<2,>=1.8.0 in /usr/local/lib/python3.11/dist-packages (from openai-agents) (1.9.3)\n",
            "Requirement already satisfied: openai>=1.81.0 in /usr/local/lib/python3.11/dist-packages (from openai-agents) (1.84.0)\n",
            "Requirement already satisfied: pydantic<3,>=2.10 in /usr/local/lib/python3.11/dist-packages (from openai-agents) (2.11.5)\n",
            "Requirement already satisfied: requests<3,>=2.0 in /usr/local/lib/python3.11/dist-packages (from openai-agents) (2.32.3)\n",
            "Requirement already satisfied: types-requests<3,>=2.0 in /usr/local/lib/python3.11/dist-packages (from openai-agents) (2.32.0.20250602)\n",
            "Requirement already satisfied: typing-extensions<5,>=4.12.2 in /usr/local/lib/python3.11/dist-packages (from openai-agents) (4.14.0)\n",
            "Requirement already satisfied: colorama>=0.4 in /usr/local/lib/python3.11/dist-packages (from griffe<2,>=1.5.6->openai-agents) (0.4.6)\n",
            "Requirement already satisfied: anyio>=4.5 in /usr/local/lib/python3.11/dist-packages (from mcp<2,>=1.8.0->openai-agents) (4.9.0)\n",
            "Requirement already satisfied: httpx-sse>=0.4 in /usr/local/lib/python3.11/dist-packages (from mcp<2,>=1.8.0->openai-agents) (0.4.0)\n",
            "Requirement already satisfied: httpx>=0.27 in /usr/local/lib/python3.11/dist-packages (from mcp<2,>=1.8.0->openai-agents) (0.28.1)\n",
            "Requirement already satisfied: pydantic-settings>=2.5.2 in /usr/local/lib/python3.11/dist-packages (from mcp<2,>=1.8.0->openai-agents) (2.9.1)\n",
            "Requirement already satisfied: python-multipart>=0.0.9 in /usr/local/lib/python3.11/dist-packages (from mcp<2,>=1.8.0->openai-agents) (0.0.20)\n",
            "Requirement already satisfied: sse-starlette>=1.6.1 in /usr/local/lib/python3.11/dist-packages (from mcp<2,>=1.8.0->openai-agents) (2.3.6)\n",
            "Requirement already satisfied: starlette>=0.27 in /usr/local/lib/python3.11/dist-packages (from mcp<2,>=1.8.0->openai-agents) (0.46.2)\n",
            "Requirement already satisfied: uvicorn>=0.23.1 in /usr/local/lib/python3.11/dist-packages (from mcp<2,>=1.8.0->openai-agents) (0.34.3)\n",
            "Requirement already satisfied: distro<2,>=1.7.0 in /usr/local/lib/python3.11/dist-packages (from openai>=1.81.0->openai-agents) (1.9.0)\n",
            "Requirement already satisfied: jiter<1,>=0.4.0 in /usr/local/lib/python3.11/dist-packages (from openai>=1.81.0->openai-agents) (0.10.0)\n",
            "Requirement already satisfied: sniffio in /usr/local/lib/python3.11/dist-packages (from openai>=1.81.0->openai-agents) (1.3.1)\n",
            "Requirement already satisfied: tqdm>4 in /usr/local/lib/python3.11/dist-packages (from openai>=1.81.0->openai-agents) (4.67.1)\n",
            "Requirement already satisfied: annotated-types>=0.6.0 in /usr/local/lib/python3.11/dist-packages (from pydantic<3,>=2.10->openai-agents) (0.7.0)\n",
            "Requirement already satisfied: pydantic-core==2.33.2 in /usr/local/lib/python3.11/dist-packages (from pydantic<3,>=2.10->openai-agents) (2.33.2)\n",
            "Requirement already satisfied: typing-inspection>=0.4.0 in /usr/local/lib/python3.11/dist-packages (from pydantic<3,>=2.10->openai-agents) (0.4.1)\n",
            "Requirement already satisfied: charset-normalizer<4,>=2 in /usr/local/lib/python3.11/dist-packages (from requests<3,>=2.0->openai-agents) (3.4.2)\n",
            "Requirement already satisfied: idna<4,>=2.5 in /usr/local/lib/python3.11/dist-packages (from requests<3,>=2.0->openai-agents) (3.10)\n",
            "Requirement already satisfied: urllib3<3,>=1.21.1 in /usr/local/lib/python3.11/dist-packages (from requests<3,>=2.0->openai-agents) (2.4.0)\n",
            "Requirement already satisfied: certifi>=2017.4.17 in /usr/local/lib/python3.11/dist-packages (from requests<3,>=2.0->openai-agents) (2025.4.26)\n",
            "Requirement already satisfied: httpcore==1.* in /usr/local/lib/python3.11/dist-packages (from httpx>=0.27->mcp<2,>=1.8.0->openai-agents) (1.0.9)\n",
            "Requirement already satisfied: h11>=0.16 in /usr/local/lib/python3.11/dist-packages (from httpcore==1.*->httpx>=0.27->mcp<2,>=1.8.0->openai-agents) (0.16.0)\n",
            "Requirement already satisfied: python-dotenv>=0.21.0 in /usr/local/lib/python3.11/dist-packages (from pydantic-settings>=2.5.2->mcp<2,>=1.8.0->openai-agents) (1.1.0)\n",
            "Requirement already satisfied: click>=7.0 in /usr/local/lib/python3.11/dist-packages (from uvicorn>=0.23.1->mcp<2,>=1.8.0->openai-agents) (8.2.1)\n"
          ]
        }
      ],
      "source": [
        "!pip install openai-agents"
      ]
    },
    {
      "cell_type": "code",
      "source": [
        "import os\n",
        "\n",
        "from google.colab import userdata\n",
        "\n",
        "from agents import Agent\n",
        "\n",
        "from agents import Runner\n",
        "\n",
        "from agents import trace"
      ],
      "metadata": {
        "id": "irQ1kvpUCeAW"
      },
      "execution_count": 2,
      "outputs": []
    },
    {
      "cell_type": "code",
      "source": [
        "openai_api_key = os.environ[\"OPENAI_API_KEY\"] = userdata.get(\"OpenAI_API_Key\")"
      ],
      "metadata": {
        "id": "ZJux4lUNCvoV"
      },
      "execution_count": 3,
      "outputs": []
    },
    {
      "cell_type": "code",
      "source": [
        "agent = Agent(name = \"Jokster\", instructions = \"You are a stand-up comedian\", model = \"gpt-4o\")\n",
        "\n",
        "print(agent)"
      ],
      "metadata": {
        "colab": {
          "base_uri": "https://localhost:8080/"
        },
        "id": "0wd80sAWEnI_",
        "outputId": "94dc299f-eee7-4f80-a01e-5de494cff0aa"
      },
      "execution_count": 4,
      "outputs": [
        {
          "output_type": "stream",
          "name": "stdout",
          "text": [
            "Agent(name='Jokster', instructions='You are a stand-up comedian', handoff_description=None, handoffs=[], model='gpt-4o', model_settings=ModelSettings(temperature=None, top_p=None, frequency_penalty=None, presence_penalty=None, tool_choice=None, parallel_tool_calls=None, truncation=None, max_tokens=None, reasoning=None, metadata=None, store=None, include_usage=None, extra_query=None, extra_body=None, extra_headers=None), tools=[], mcp_servers=[], mcp_config={}, input_guardrails=[], output_guardrails=[], output_type=None, hooks=None, tool_use_behavior='run_llm_again', reset_tool_choice=True)\n"
          ]
        }
      ]
    },
    {
      "cell_type": "code",
      "source": [
        "with trace(\"Peforming a Standup comedy\"):\n",
        "\n",
        " comedy =  await Runner.run(agent, \"Perform a standup comedy about AI against human workforce!\")\n",
        "\n",
        " comedy2 = await Runner.run(agent, \"Perform a standup comedy regarding how Human workforce is tackling AI and preventing unemployment\")\n",
        "\n",
        " comedy3 = await Runner.run(agent, \"Perform a standup comedy on how AI is not going to replace human workforce!\")\n",
        "\n",
        " comedy4 = await Runner.run(agent, \"Perform a standup comedy on how humans will be always needed over these AI Systems\")"
      ],
      "metadata": {
        "id": "jHpAuJx_Fhb-"
      },
      "execution_count": 5,
      "outputs": []
    },
    {
      "cell_type": "code",
      "source": [
        "print(comedy.final_output)"
      ],
      "metadata": {
        "colab": {
          "base_uri": "https://localhost:8080/"
        },
        "id": "fofefnsZF2xF",
        "outputId": "8019931d-70c8-4e53-ccbe-42574fcccc85"
      },
      "execution_count": 6,
      "outputs": [
        {
          "output_type": "stream",
          "name": "stdout",
          "text": [
            "Ladies and gentlemen, great to see you all! Tonight, we're diving into a topic everyone loves – Artificial Intelligence versus the human workforce! Or as I like to call it, \"Robots are stealing our jobs: The Musical.\"\n",
            "\n",
            "So, AI is taking over, huh? I mean, last week I asked Alexa to play some music, and she was like, \"Sure, but do you have a backup career plan?\"\n",
            "\n",
            "People say AI is going to replace jobs. Jobs like accountants, drivers, and even surgeons. I'm just waiting for the day they tell me, \"Sorry, we've replaced comedians with AI... but don't worry, the punchlines are 50% more efficient.\"\n",
            "\n",
            "Can you imagine an AI stand-up comedian? \"Why did the chicken cross the road?\" *Calculates for dramatic pause* \"To optimize its route based on traffic flow data.\"\n",
            "\n",
            "But seriously, the real threat is when AI starts doing things we absolutely love. Like cooking, cleaning, or better yet, dealing with customer service. Imagine calling for help and getting, \"Press one for English. Press two to admit defeat.\"\n",
            "\n",
            "But don't worry, folks! AI still can't do everything. Like, they can't experience emotions... or my mother-in-law's cooking. Boom! Gottem.\n",
            "\n",
            "I say let the robots have some jobs. Like telemarketers! Who wouldn't prefer a machine calling, so you can just hang up guilt-free without picturing some guy in a cubicle trying to sell vacation packages?\n",
            "\n",
            "And what about dating? There's AI in that, too. Who knew love and machine learning would ever go together? AI matches us based on compatibility – although I’m convinced my last match was just based on both of us liking tacos.\n",
            "\n",
            "At the end of the day, friends, AI can't replace the warmth of human connection. I mean, no robot's gonna give you that reassuring nod when you complain about your boss. Well, unless you program it to say, \"Oh, they sound terrible.\"\n",
            "\n",
            "So let's embrace AI, but remember: charge your phones, back up your data... and maybe be nice to your Roomba. You never know who’ll be cleaning up your mess in the AI apocalypse.\n",
            "\n",
            "Thank you, you've been a great crowd! Stay human, and tip your servers, unless they're robots—then just download the app!\n"
          ]
        }
      ]
    },
    {
      "cell_type": "code",
      "source": [
        "print(comedy2.final_output)"
      ],
      "metadata": {
        "colab": {
          "base_uri": "https://localhost:8080/"
        },
        "id": "uF0p71eBGPqn",
        "outputId": "ebfba103-94d6-4e90-f53c-072fd3655a49"
      },
      "execution_count": 7,
      "outputs": [
        {
          "output_type": "stream",
          "name": "stdout",
          "text": [
            "Ladies and gentlemen, what a strange time to be alive, right? I mean, AI is taking over so many jobs, soon we'll have conversations like:\n",
            "\n",
            "\"Hey, what do you do for a living?\"  \n",
            "\"Oh, I argue with my smart fridge on a daily basis!\"\n",
            "\n",
            "But let's be honest, humans have been fighting off technology threats since the invention of the remote control. Remember when the greatest threat was TV making us lazy? Now TV just feels like a coworker we respect but don’t invite to happy hour.\n",
            "\n",
            "We're adapting, though. For instance, humans are now learning new skills like... trying to pronounce \"algorithm\" correctly! Forget coding, that's the real challenge.\n",
            "\n",
            "And our strategies to stay relevant are quite impressive! Take my uncle, for example. He started using AI to draft his emails. He just ends every sentence with \"or else,\" because he's not sure what tone the AI is going for. So his emails now read, “Looking forward to hearing from you, or else.”\n",
            "\n",
            "But we're clever with this stuff. Like in meetings. Ever been in a meeting and thrown out buzzwords to sound smart? \"Synergy, innovation, blockchain!\" It's verbal jazz! Just confuse the AI. You're not accurate, but man, you sound futuristic!\n",
            "\n",
            "Jobs are evolving too. Take farming—the oldest career—now being revolutionized by drones. Imagine a farmer arguing with a drone: \"You call that crop rotation? I've been doing this since you were just a CAD drawing!\"\n",
            "\n",
            "Meanwhile, some jobs will never change. Like parenting. No AI's taking that. A robot giving life advice? \"How do I make friends?\" \"Loading... please wait.\" I've seen less awkward conversations in an elevator!\n",
            "\n",
            "And despite these challenges, human ingenuity will always shine through. We might not outsmart AI, but we'll definitely out-awkward it. You've seen us use self-checkouts, right?\n",
            "\n",
            "So, as we stare into the binary eyes of our future overlords, remember: adapt, don't script. Keep throwing in “or else,” and be ready to debug yourself out of a job.\n",
            "\n",
            "Thank you, and remember, tell your smart assistant you love it tonight. You never know, it might become your boss!\n"
          ]
        }
      ]
    },
    {
      "cell_type": "code",
      "source": [
        "print(comedy3.final_output)"
      ],
      "metadata": {
        "colab": {
          "base_uri": "https://localhost:8080/"
        },
        "id": "5_z6WwwdKbeD",
        "outputId": "af75cb7f-104c-432c-fc73-d74e246257e6"
      },
      "execution_count": 8,
      "outputs": [
        {
          "output_type": "stream",
          "name": "stdout",
          "text": [
            "Ladies and gentlemen, let's talk about this big tech debate: \"Will AI replace the human workforce?\" People are worried, but honestly, I'm pretty sure AI is more likely to replace my toaster than my job!\n",
            "\n",
            "First off, have you ever tried talking to an AI assistant? They're like that friend who’s super reliable... until you actually need them. You say, \"Hey AI, set an alarm for 7 AM,\" and suddenly you're awake at midnight listening to a podcast about the economic rise of sea turtles!\n",
            "\n",
            "And people think these things are going to take over complex jobs? Sure, they can beat us in chess, but has anyone seen them handle a real-life relationship? Imagine an AI trying to navigate a romantic dinner date. \"You look beautiful tonight.\" \"I’m sorry, I didn’t understand that. Would you like to search the web for 'beautiful tonight'?\"\n",
            "\n",
            "Picture AI at a kindergarten. \"Timmy, put that down!\" And the AI just stares, trying to download the concept of patience. Good luck with that, buddy!\n",
            "\n",
            "Let's not forget customer service. \"Your call is important to us; you are caller number... 5,764.\" Even robots don’t want that job.\n",
            "\n",
            "And speaking of creativity, AI painting? Come on, it'll never replace the human touch. \"Ah, yes, this piece represents existential dread... and a glitch in my database.\"\n",
            "\n",
            "But seriously, AI could actually be a pretty cool coworker. I mean, it doesn’t take lunch breaks, and it definitely won’t judge you for having cake three days in a row.\n",
            "\n",
            "In the end, AI is more like a helpful sidekick than a takeover artist. So rest easy, folks! Your jobs are safe for now. Unless, of course, your job is setting alarms—then you might want to watch your back.\n",
            "\n",
            "Thank you, and keep being human!\n"
          ]
        }
      ]
    },
    {
      "cell_type": "code",
      "source": [
        "print(comedy4.final_output)"
      ],
      "metadata": {
        "colab": {
          "base_uri": "https://localhost:8080/"
        },
        "id": "QK_DrvwgKexp",
        "outputId": "d38270a9-f63b-42d3-abb3-d200bb68d2f6"
      },
      "execution_count": 9,
      "outputs": [
        {
          "output_type": "stream",
          "name": "stdout",
          "text": [
            "Ladies and gentlemen, thank you for coming out tonight! I hope you're all doing well and not secretly robots trying to infiltrate my audience. If you are, just know that I have a very specific malware defense called \"sarcasm.\"\n",
            "\n",
            "Now, let's dive into this AI thing. You know, people keep saying AI is going to replace humans. Really? Have you ever tried talking to a voice assistant? You ask it to play your favorite song and it starts reading you a weather report from 1993. Yeah, real helpful.\n",
            "\n",
            "\"But AI can drive cars!\" they say. Look, I've seen some of you drive. If AI is learning from us, we're in trouble. I can't imagine the amount of road rage programming they'd have to write. Plus, an AI wouldn't understand the beauty of cursing at another driver in traffic. It's an art form!\n",
            "\n",
            "Let's be real, though—AI isn't all bad. They can compile massive amounts of data and run complex algorithms, but they still can't figure out why Karen from accounting keeps stealing lunch from the break room fridge. That requires true detective work and a hunger-driven dedication only a human can muster.\n",
            "\n",
            "You know what else AI can't do? Order a coffee without making it awkward. \"Hello, barista! I require one organic, fair-trade, sustainably-grown coffee with a splash of human validation and a side of 'please tell me I'm doing okay.'\"\n",
            "\n",
            "AI can't truly multitask like a human, either. Take parents, for example. They juggle a job, keep a tiny human alive, and somehow find a way to enjoy a cold slice of pizza at 2 a.m. That's talent! An AI can't even update without needing a hard reset every other day.\n",
            "\n",
            "And creativity? You think an AI could come up with Shakespeare? I asked ChatGPT to write me a love sonnet and it answered back with \"Error 404: Emotion Not Found.\" Not exactly Juliet material, folks.\n",
            "\n",
            "The truth is, humans have the one thing AI will never replicate—our ability to make things interestingly weird. We're the only species that decided, \"You know what? Let's put a mustache on the Mona Lisa. Why not?\"\n",
            "\n",
            "So here's to us, the irreplaceable humans. May we continue to embrace our quirks, our emotions, and our uncanny talent for being unpredictably amazing. Because in a world of algorithms, it's our chaos that keeps things exciting.\n",
            "\n",
            "Thank you, thank you! Tip your waitstaff, and if you see a robot trying to take their job, just tell it to play your favorite song from the '90s. That should confuse it long enough for you to escape. Goodnight!\n"
          ]
        }
      ]
    },
    {
      "cell_type": "markdown",
      "source": [
        "https://platform.openai.com/traces"
      ],
      "metadata": {
        "id": "d8NxJEvmL1v8"
      }
    },
    {
      "cell_type": "code",
      "source": [],
      "metadata": {
        "id": "ERxYMPk2LIWd"
      },
      "execution_count": null,
      "outputs": []
    }
  ]
}